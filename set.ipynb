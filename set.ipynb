{
 "cells": [
  {
   "cell_type": "code",
   "execution_count": 1,
   "metadata": {},
   "outputs": [
    {
     "name": "stdout",
     "output_type": "stream",
     "text": [
      "{1, 2, 44, 22}\n"
     ]
    }
   ],
   "source": [
    "set={1,2,22,44}\n",
    "print(set)"
   ]
  },
  {
   "cell_type": "code",
   "execution_count": 2,
   "metadata": {},
   "outputs": [
    {
     "name": "stdout",
     "output_type": "stream",
     "text": [
      "{1, (23, 45, 55), 'hi'}\n"
     ]
    }
   ],
   "source": [
    "set={1,'hi',(23,45,55)}\n",
    "print(set)\n"
   ]
  },
  {
   "cell_type": "code",
   "execution_count": 4,
   "metadata": {},
   "outputs": [
    {
     "name": "stdout",
     "output_type": "stream",
     "text": [
      "{1, 35, 55}\n",
      "{1, 35, 23, 55}\n"
     ]
    }
   ],
   "source": [
    "set={1,35,55}\n",
    "print(set)\n",
    "set.add(23)\n",
    "print(set)\n"
   ]
  },
  {
   "cell_type": "code",
   "execution_count": 5,
   "metadata": {},
   "outputs": [
    {
     "name": "stdout",
     "output_type": "stream",
     "text": [
      "{1, 35, 55}\n",
      "{1, 35, 44, 45, 55, 56}\n"
     ]
    }
   ],
   "source": [
    "set={1,35,55}\n",
    "print(set)\n",
    "set.update([45,56,44,56])\n",
    "print(set)"
   ]
  },
  {
   "cell_type": "code",
   "execution_count": 6,
   "metadata": {},
   "outputs": [
    {
     "name": "stdout",
     "output_type": "stream",
     "text": [
      "{1, 35, 55}\n",
      "{1, 55}\n"
     ]
    }
   ],
   "source": [
    "set={1,35,55}\n",
    "print(set)\n",
    "set.remove(35)\n",
    "print(set)"
   ]
  },
  {
   "cell_type": "code",
   "execution_count": 7,
   "metadata": {},
   "outputs": [
    {
     "name": "stdout",
     "output_type": "stream",
     "text": [
      "{33, 2, 66, 4, 34, 74, 76, 45, 22, 56}\n"
     ]
    }
   ],
   "source": [
    "setA={2,22,45,66,74,33,4}\n",
    "setB={34,56,22,76,45}\n",
    "print(setA|setB)\n"
   ]
  },
  {
   "cell_type": "code",
   "execution_count": 8,
   "metadata": {},
   "outputs": [
    {
     "name": "stdout",
     "output_type": "stream",
     "text": [
      "{45, 22}\n"
     ]
    }
   ],
   "source": [
    "setA={2,22,45,66,74,33,4}\n",
    "setB={34,56,22,76,45}\n",
    "print(setA&setB)\n"
   ]
  },
  {
   "cell_type": "code",
   "execution_count": 9,
   "metadata": {},
   "outputs": [
    {
     "name": "stdout",
     "output_type": "stream",
     "text": [
      "{33, 2, 66, 4, 74}\n"
     ]
    }
   ],
   "source": [
    "setA={2,22,45,66,74,33,4}\n",
    "setB={34,56,22,76,45}\n",
    "print(setA-setB)"
   ]
  },
  {
   "cell_type": "code",
   "execution_count": 10,
   "metadata": {},
   "outputs": [
    {
     "name": "stdout",
     "output_type": "stream",
     "text": [
      "{2, 66, 4, 74, 76, 33, 34, 56}\n"
     ]
    }
   ],
   "source": [
    "setA={2,22,45,66,74,33,4}\n",
    "setB={34,56,22,76,45}\n",
    "print(setA^setB)"
   ]
  },
  {
   "cell_type": "code",
   "execution_count": null,
   "metadata": {},
   "outputs": [],
   "source": []
  }
 ],
 "metadata": {
  "kernelspec": {
   "display_name": "Python 3",
   "language": "python",
   "name": "python3"
  },
  "language_info": {
   "codemirror_mode": {
    "name": "ipython",
    "version": 3
   },
   "file_extension": ".py",
   "mimetype": "text/x-python",
   "name": "python",
   "nbconvert_exporter": "python",
   "pygments_lexer": "ipython3",
   "version": "3.7.6"
  }
 },
 "nbformat": 4,
 "nbformat_minor": 4
}
