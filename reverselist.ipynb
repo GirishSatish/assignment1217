{
 "cells": [
  {
   "cell_type": "code",
   "execution_count": 4,
   "metadata": {},
   "outputs": [
    {
     "name": "stdout",
     "output_type": "stream",
     "text": [
      "[234, 766, 66, 55, 454, 34, 1]\n",
      "None\n"
     ]
    }
   ],
   "source": [
    "def reverse(list):\n",
    "    list.reverse()\n",
    "    print(list)\n",
    "list=[1,34,454,55,66,766,234]\n",
    "print(reverse(list))\n"
   ]
  },
  {
   "cell_type": "code",
   "execution_count": 6,
   "metadata": {},
   "outputs": [
    {
     "name": "stdout",
     "output_type": "stream",
     "text": [
      "[9, 676, 555, 324, 345, 67, 55, 23]\n"
     ]
    }
   ],
   "source": [
    "def reverse(list):\n",
    "    reverse=list[::-1]\n",
    "    return reverse\n",
    "    \n",
    "list=[23,55,67,345,324,555,676,9]\n",
    "print(reverse(list))"
   ]
  },
  {
   "cell_type": "code",
   "execution_count": null,
   "metadata": {},
   "outputs": [],
   "source": []
  }
 ],
 "metadata": {
  "kernelspec": {
   "display_name": "Python 3",
   "language": "python",
   "name": "python3"
  },
  "language_info": {
   "codemirror_mode": {
    "name": "ipython",
    "version": 3
   },
   "file_extension": ".py",
   "mimetype": "text/x-python",
   "name": "python",
   "nbconvert_exporter": "python",
   "pygments_lexer": "ipython3",
   "version": "3.7.6"
  }
 },
 "nbformat": 4,
 "nbformat_minor": 4
}
